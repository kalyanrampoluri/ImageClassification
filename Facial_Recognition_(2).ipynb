{
  "cells": [
    {
      "cell_type": "code",
      "execution_count": 2,
      "metadata": {
        "colab": {
          "base_uri": "https://localhost:8080/"
        },
        "id": "zswvaqOiJ9uS",
        "outputId": "6168b0ac-7afd-4178-f69c-7229e3e3b736"
      },
      "outputs": [
        {
          "output_type": "stream",
          "name": "stdout",
          "text": [
            "Looking in indexes: https://pypi.org/simple, https://us-python.pkg.dev/colab-wheels/public/simple/\n",
            "Collecting opendatasets\n",
            "  Downloading opendatasets-0.1.22-py3-none-any.whl (15 kB)\n",
            "Requirement already satisfied: tqdm in /usr/local/lib/python3.9/dist-packages (from opendatasets) (4.65.0)\n",
            "Requirement already satisfied: kaggle in /usr/local/lib/python3.9/dist-packages (from opendatasets) (1.5.13)\n",
            "Requirement already satisfied: click in /usr/local/lib/python3.9/dist-packages (from opendatasets) (8.1.3)\n",
            "Requirement already satisfied: python-slugify in /usr/local/lib/python3.9/dist-packages (from kaggle->opendatasets) (8.0.1)\n",
            "Requirement already satisfied: urllib3 in /usr/local/lib/python3.9/dist-packages (from kaggle->opendatasets) (1.26.15)\n",
            "Requirement already satisfied: python-dateutil in /usr/local/lib/python3.9/dist-packages (from kaggle->opendatasets) (2.8.2)\n",
            "Requirement already satisfied: certifi in /usr/local/lib/python3.9/dist-packages (from kaggle->opendatasets) (2022.12.7)\n",
            "Requirement already satisfied: requests in /usr/local/lib/python3.9/dist-packages (from kaggle->opendatasets) (2.27.1)\n",
            "Requirement already satisfied: six>=1.10 in /usr/local/lib/python3.9/dist-packages (from kaggle->opendatasets) (1.16.0)\n",
            "Requirement already satisfied: text-unidecode>=1.3 in /usr/local/lib/python3.9/dist-packages (from python-slugify->kaggle->opendatasets) (1.3)\n",
            "Requirement already satisfied: idna<4,>=2.5 in /usr/local/lib/python3.9/dist-packages (from requests->kaggle->opendatasets) (3.4)\n",
            "Requirement already satisfied: charset-normalizer~=2.0.0 in /usr/local/lib/python3.9/dist-packages (from requests->kaggle->opendatasets) (2.0.12)\n",
            "Installing collected packages: opendatasets\n",
            "Successfully installed opendatasets-0.1.22\n",
            "Looking in indexes: https://pypi.org/simple, https://us-python.pkg.dev/colab-wheels/public/simple/\n",
            "Requirement already satisfied: pandas in /usr/local/lib/python3.9/dist-packages (1.4.4)\n",
            "Requirement already satisfied: pytz>=2020.1 in /usr/local/lib/python3.9/dist-packages (from pandas) (2022.7.1)\n",
            "Requirement already satisfied: python-dateutil>=2.8.1 in /usr/local/lib/python3.9/dist-packages (from pandas) (2.8.2)\n",
            "Requirement already satisfied: numpy>=1.18.5 in /usr/local/lib/python3.9/dist-packages (from pandas) (1.22.4)\n",
            "Requirement already satisfied: six>=1.5 in /usr/local/lib/python3.9/dist-packages (from python-dateutil>=2.8.1->pandas) (1.16.0)\n"
          ]
        }
      ],
      "source": [
        "!pip install opendatasets\n",
        "!pip install pandas"
      ]
    },
    {
      "cell_type": "code",
      "execution_count": 3,
      "metadata": {
        "id": "lznZlnhPKs0k"
      },
      "outputs": [],
      "source": [
        "import opendatasets as od\n",
        "import pandas\n",
        "import cv2\n",
        "import os\n",
        "from google.colab.patches import cv2_imshow\n",
        "from skimage import io\n",
        "import numpy as np\n",
        "import keras\n",
        "from keras.layers import Dense,Flatten\n",
        "from keras.layers import Conv2D\n",
        "from keras import *\n",
        "from tensorflow.keras.layers import Flatten, Conv2D, MaxPooling2D\n",
        "from tensorflow.keras.layers import BatchNormalization"
      ]
    },
    {
      "cell_type": "code",
      "execution_count": 4,
      "metadata": {
        "id": "fIKi6IS-Kx8l",
        "colab": {
          "base_uri": "https://localhost:8080/"
        },
        "outputId": "12b2513c-f21d-4f71-ca98-99be83e152a0"
      },
      "outputs": [
        {
          "output_type": "stream",
          "name": "stdout",
          "text": [
            "Please provide your Kaggle credentials to download this dataset. Learn more: http://bit.ly/kaggle-creds\n",
            "Your Kaggle username: kalyanpoluri\n",
            "Your Kaggle Key: ··········\n",
            "Downloading facial-emotion-expressions.zip to ./facial-emotion-expressions\n"
          ]
        },
        {
          "output_type": "stream",
          "name": "stderr",
          "text": [
            "100%|██████████| 121M/121M [00:00<00:00, 141MB/s]\n"
          ]
        },
        {
          "output_type": "stream",
          "name": "stdout",
          "text": [
            "\n"
          ]
        }
      ],
      "source": [
        "dataset_dir=od.download(\n",
        "    \"https://www.kaggle.com/datasets/samaneheslamifar/facial-emotion-expressions/code\")"
      ]
    },
    {
      "cell_type": "code",
      "execution_count": 5,
      "metadata": {
        "id": "lu3iIbbCLavU"
      },
      "outputs": [],
      "source": [
        "dataset_dir=\"facial-emotion-expressions/images/images/train/\"\n",
        "val_dir = \"facial-emotion-expressions/images/images/validation/\""
      ]
    },
    {
      "cell_type": "code",
      "source": [
        "Categories = ['angry',  'disgust',  'fear',  'happy'  ,'neutral', 'sad','surprise']"
      ],
      "metadata": {
        "id": "dA2VimYhzFIb"
      },
      "execution_count": 6,
      "outputs": []
    },
    {
      "cell_type": "code",
      "source": [
        "data = []\n",
        "labels = []\n",
        "val_data=[]\n",
        "val_labels=[]\n",
        "for i in Categories:\n",
        "  path =  dataset_dir+i+'/'\n",
        "  for j in os.listdir(path):\n",
        "    im = cv2.imread(path+j)\n",
        "    im = cv2.cvtColor(im, cv2.COLOR_BGR2GRAY)\n",
        "    data.append(im)\n",
        "    labels.append(i)\n",
        "\n",
        "for i in Categories:\n",
        "  path =  val_dir+i+'/'\n",
        "  for j in os.listdir(path):\n",
        "    im = cv2.imread(path+j)\n",
        "    im = cv2.cvtColor(im, cv2.COLOR_BGR2GRAY)\n",
        "    val_data.append(im)\n",
        "    val_labels.append(i)   "
      ],
      "metadata": {
        "id": "NbcbuJjS6G4q"
      },
      "execution_count": 14,
      "outputs": []
    },
    {
      "cell_type": "code",
      "source": [
        "data = np.array(data)\n",
        "labels = np.array(labels)\n",
        "val_data = np.array(val_data)\n",
        "val_labels = np.array(val_labels)"
      ],
      "metadata": {
        "id": "eHg5CZq53-4v"
      },
      "execution_count": 15,
      "outputs": []
    },
    {
      "cell_type": "code",
      "source": [
        "from sklearn import preprocessing\n",
        "label_encoder = preprocessing.LabelEncoder().fit(labels)\n",
        "labels = label_encoder.transform(labels)\n",
        "label_encoder = preprocessing.LabelEncoder().fit(val_labels)\n",
        "val_labels = label_encoder.transform(val_labels)"
      ],
      "metadata": {
        "id": "DK53BM7ZwoOi"
      },
      "execution_count": 16,
      "outputs": []
    },
    {
      "cell_type": "code",
      "source": [
        "image_shape = (48,48,1)\n",
        "\n",
        "model = Sequential()\n",
        "\n",
        "model.add(Conv2D(100, 3, activation='relu', padding='same', input_shape=(48,48,1)))\n",
        "model.add(Conv2D(200, 3, activation='relu', padding='same'))\n",
        "model.add(MaxPooling2D(2, 2))\n",
        "model.add(BatchNormalization())\n",
        "\n",
        "model.add(Conv2D(200, 3, activation='relu', padding='same'))\n",
        "model.add(Conv2D(300, 3, activation='relu', padding='same'))\n",
        "model.add(MaxPooling2D(2, 2))\n",
        "model.add(BatchNormalization())\n",
        "\n",
        "model.add(Conv2D(400, 3, activation='relu', padding='same'))\n",
        "model.add(Conv2D(500, 3, activation='relu', padding='same'))\n",
        "model.add(Conv2D(600, 3, activation='relu', padding='same'))\n",
        "model.add(MaxPooling2D(2, 2))\n",
        "model.add(BatchNormalization())\n",
        "\n",
        "model.add(Flatten())\n",
        "model.add(Dense(300,activation='relu'))\n",
        "model.add(Dense(100,activation='relu'))\n",
        "model.add(Dense(7, activation='softmax'))\n",
        "model.summary()"
      ],
      "metadata": {
        "colab": {
          "base_uri": "https://localhost:8080/"
        },
        "id": "XpkqX9Pk4G5O",
        "outputId": "6576a8c6-c863-4502-8615-0506a94cc85d"
      },
      "execution_count": 20,
      "outputs": [
        {
          "output_type": "stream",
          "name": "stdout",
          "text": [
            "Model: \"sequential_2\"\n",
            "_________________________________________________________________\n",
            " Layer (type)                Output Shape              Param #   \n",
            "=================================================================\n",
            " conv2d_14 (Conv2D)          (None, 48, 48, 100)       1000      \n",
            "                                                                 \n",
            " conv2d_15 (Conv2D)          (None, 48, 48, 200)       180200    \n",
            "                                                                 \n",
            " max_pooling2d_6 (MaxPooling  (None, 24, 24, 200)      0         \n",
            " 2D)                                                             \n",
            "                                                                 \n",
            " batch_normalization_6 (Batc  (None, 24, 24, 200)      800       \n",
            " hNormalization)                                                 \n",
            "                                                                 \n",
            " conv2d_16 (Conv2D)          (None, 24, 24, 200)       360200    \n",
            "                                                                 \n",
            " conv2d_17 (Conv2D)          (None, 24, 24, 300)       540300    \n",
            "                                                                 \n",
            " max_pooling2d_7 (MaxPooling  (None, 12, 12, 300)      0         \n",
            " 2D)                                                             \n",
            "                                                                 \n",
            " batch_normalization_7 (Batc  (None, 12, 12, 300)      1200      \n",
            " hNormalization)                                                 \n",
            "                                                                 \n",
            " conv2d_18 (Conv2D)          (None, 12, 12, 400)       1080400   \n",
            "                                                                 \n",
            " conv2d_19 (Conv2D)          (None, 12, 12, 500)       1800500   \n",
            "                                                                 \n",
            " conv2d_20 (Conv2D)          (None, 12, 12, 600)       2700600   \n",
            "                                                                 \n",
            " max_pooling2d_8 (MaxPooling  (None, 6, 6, 600)        0         \n",
            " 2D)                                                             \n",
            "                                                                 \n",
            " batch_normalization_8 (Batc  (None, 6, 6, 600)        2400      \n",
            " hNormalization)                                                 \n",
            "                                                                 \n",
            " flatten_2 (Flatten)         (None, 21600)             0         \n",
            "                                                                 \n",
            " dense_2 (Dense)             (None, 300)               6480300   \n",
            "                                                                 \n",
            " dense_3 (Dense)             (None, 100)               30100     \n",
            "                                                                 \n",
            " dense_4 (Dense)             (None, 7)                 707       \n",
            "                                                                 \n",
            "=================================================================\n",
            "Total params: 13,178,707\n",
            "Trainable params: 13,176,507\n",
            "Non-trainable params: 2,200\n",
            "_________________________________________________________________\n"
          ]
        }
      ]
    },
    {
      "cell_type": "code",
      "source": [
        "print(data.shape)\n",
        "print(labels.shape)\n",
        "\n",
        "print(val_data.shape)\n",
        "print(val_labels.shape)"
      ],
      "metadata": {
        "colab": {
          "base_uri": "https://localhost:8080/"
        },
        "id": "-oBhV9-94zKE",
        "outputId": "30f4509a-8b31-4ab3-c082-9c310a566add"
      },
      "execution_count": 21,
      "outputs": [
        {
          "output_type": "stream",
          "name": "stdout",
          "text": [
            "(28821, 48, 48)\n",
            "(28821,)\n",
            "(7066, 48, 48)\n",
            "(7066,)\n"
          ]
        }
      ]
    },
    {
      "cell_type": "code",
      "source": [
        "from tensorflow.keras.optimizers import Adam \n",
        "\n",
        "model.compile(loss='sparse_categorical_crossentropy',optimizer='nadam', metrics=['accuracy'])\n",
        "history = model.fit(data,\n",
        "                    labels ,\n",
        "                    validation_data=(val_data,val_labels),\n",
        "                    epochs=20,\n",
        "                    batch_size=16)\n",
        "                    \n",
        "                    "
      ],
      "metadata": {
        "colab": {
          "base_uri": "https://localhost:8080/"
        },
        "id": "qX_via8d5ppX",
        "outputId": "aa24c28d-9b0b-44e0-c0e1-3c7c4ae71341"
      },
      "execution_count": 23,
      "outputs": [
        {
          "output_type": "stream",
          "name": "stdout",
          "text": [
            "Epoch 1/20\n",
            "1802/1802 [==============================] - 71s 36ms/step - loss: 1.6775 - accuracy: 0.3364 - val_loss: 1.5182 - val_accuracy: 0.4046\n",
            "Epoch 2/20\n",
            "1802/1802 [==============================] - 64s 36ms/step - loss: 1.3462 - accuracy: 0.4806 - val_loss: 1.4858 - val_accuracy: 0.4145\n",
            "Epoch 3/20\n",
            "1802/1802 [==============================] - 65s 36ms/step - loss: 1.2202 - accuracy: 0.5337 - val_loss: 1.3592 - val_accuracy: 0.4676\n",
            "Epoch 4/20\n",
            "1802/1802 [==============================] - 65s 36ms/step - loss: 1.1315 - accuracy: 0.5706 - val_loss: 1.1612 - val_accuracy: 0.5655\n",
            "Epoch 5/20\n",
            "1802/1802 [==============================] - 65s 36ms/step - loss: 1.0531 - accuracy: 0.5983 - val_loss: 1.1008 - val_accuracy: 0.5931\n",
            "Epoch 6/20\n",
            "1802/1802 [==============================] - 65s 36ms/step - loss: 0.9747 - accuracy: 0.6307 - val_loss: 1.1190 - val_accuracy: 0.5860\n",
            "Epoch 7/20\n",
            "1802/1802 [==============================] - 66s 37ms/step - loss: 0.8777 - accuracy: 0.6719 - val_loss: 1.1315 - val_accuracy: 0.5822\n",
            "Epoch 8/20\n",
            "1802/1802 [==============================] - 66s 37ms/step - loss: 0.8232 - accuracy: 0.6943 - val_loss: 1.1668 - val_accuracy: 0.5993\n",
            "Epoch 9/20\n",
            "1802/1802 [==============================] - 67s 37ms/step - loss: 0.7569 - accuracy: 0.7178 - val_loss: 1.1989 - val_accuracy: 0.6054\n",
            "Epoch 10/20\n",
            "1802/1802 [==============================] - 67s 37ms/step - loss: 0.6502 - accuracy: 0.7625 - val_loss: 1.2283 - val_accuracy: 0.6047\n",
            "Epoch 11/20\n",
            "1802/1802 [==============================] - 68s 37ms/step - loss: 0.5192 - accuracy: 0.8101 - val_loss: 1.6614 - val_accuracy: 0.6111\n",
            "Epoch 12/20\n",
            "1802/1802 [==============================] - 66s 37ms/step - loss: 0.4565 - accuracy: 0.8338 - val_loss: 1.3297 - val_accuracy: 0.5986\n",
            "Epoch 13/20\n",
            "1802/1802 [==============================] - 66s 37ms/step - loss: 0.3692 - accuracy: 0.8696 - val_loss: 1.7599 - val_accuracy: 0.6124\n",
            "Epoch 14/20\n",
            "1802/1802 [==============================] - 67s 37ms/step - loss: 0.3206 - accuracy: 0.8866 - val_loss: 1.6338 - val_accuracy: 0.6093\n",
            "Epoch 15/20\n",
            "1802/1802 [==============================] - 66s 37ms/step - loss: 0.2554 - accuracy: 0.9127 - val_loss: 2.6264 - val_accuracy: 0.5978\n",
            "Epoch 16/20\n",
            "1802/1802 [==============================] - 67s 37ms/step - loss: 0.2247 - accuracy: 0.9218 - val_loss: 1.8314 - val_accuracy: 0.6142\n",
            "Epoch 17/20\n",
            "1802/1802 [==============================] - 67s 37ms/step - loss: 0.1928 - accuracy: 0.9344 - val_loss: 1.9449 - val_accuracy: 0.5998\n",
            "Epoch 18/20\n",
            "1802/1802 [==============================] - 67s 37ms/step - loss: 0.1872 - accuracy: 0.9369 - val_loss: 2.2585 - val_accuracy: 0.6032\n",
            "Epoch 19/20\n",
            "1802/1802 [==============================] - 67s 37ms/step - loss: 0.1625 - accuracy: 0.9456 - val_loss: 2.3084 - val_accuracy: 0.5971\n",
            "Epoch 20/20\n",
            "1802/1802 [==============================] - 66s 37ms/step - loss: 0.1510 - accuracy: 0.9502 - val_loss: 2.2927 - val_accuracy: 0.6030\n"
          ]
        }
      ]
    },
    {
      "cell_type": "code",
      "source": [
        "import matplotlib.pyplot as plt\n",
        "\n",
        "figure, graph = plt.subplots(nrows=2, ncols=1, figsize=(12, 10))\n",
        "\n",
        "graph[0].set_title('Training and Validation Accuracy vs. Epochs')\n",
        "graph[0].plot(history.history['accuracy'], 'o-', color='blue', label='Train Accuracy')\n",
        "graph[0].plot(history.history['val_accuracy'], '*-', color='red', label='Validation Accuracy')\n",
        "graph[0].set_xlabel('Epochs')\n",
        "graph[0].set_ylabel('Accuracy')\n",
        "\n",
        "graph[1].set_title('Training and Validation Loss vs. Epochs')\n",
        "graph[1].plot(history.history['loss'], 'o-', color='blue', label='Training Loss')\n",
        "graph[1].plot(history.history['val_loss'], '*-', color='red', label='Validation Loss')\n",
        "graph[1].set_xlabel('Epochs')\n",
        "graph[1].set_ylabel('Loss')\n",
        "\n",
        "plt.tight_layout()"
      ],
      "metadata": {
        "colab": {
          "base_uri": "https://localhost:8080/",
          "height": 729
        },
        "id": "MUIjwW1IxVz4",
        "outputId": "679e9cf2-c5db-4819-db4e-8ebe65e85651"
      },
      "execution_count": null,
      "outputs": [
        {
          "output_type": "display_data",
          "data": {
            "text/plain": [
              "<Figure size 864x720 with 2 Axes>"
            ],
            "image/png": "[encoded data removed]"
          },
          "metadata": {
            "needs_background": "light"
          }
        }
      ]
    },
    {
      "cell_type": "markdown",
      "source": [],
      "metadata": {
        "id": "0lDcoxJxNm_N"
      }
    }
  ],
  "metadata": {
    "colab": {
      "provenance": []
    },
    "kernelspec": {
      "display_name": "Python 3",
      "name": "python3"
    },
    "language_info": {
      "name": "python"
    },
    "accelerator": "GPU",
    "gpuClass": "standard"
  },
  "nbformat": 4,
  "nbformat_minor": 0
}